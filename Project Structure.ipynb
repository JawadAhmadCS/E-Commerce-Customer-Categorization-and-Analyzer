{
 "cells": [
  {
   "cell_type": "markdown",
   "id": "08c1bf74-3531-478d-9da8-3c961e5747e0",
   "metadata": {},
   "source": [
    "# E-Commerce Customer Categorization and Analyzer\n",
    "\n",
    "**1: Data Preparation**\n",
    "\n",
    "**2: Exploring the Contents of Variables**\n",
    "\n",
    "          Analysis by Countries\n",
    "          Customers and Products\n",
    "          Cancelled Orders\n",
    "          StockCode\n",
    "          Basket Price\n",
    "\n",
    "**3: Products Description**\n",
    "\n",
    "      Keywords\n",
    "      Categorical Keyword\n",
    "      Data encoding\n",
    "\n",
    "**Creating clusters of products**\n",
    "\n",
    "      K-Means Clustering & silhouette_score\n",
    "      Word Cloud\n",
    "\n",
    "**4: Customer Categories**\n",
    "\n",
    "**5: Classifying Customers**\n",
    "  ***Train X, Y***\n",
    "  \n",
    "  ***Models***\n",
    "  - Support Vector Machine Classifier (SVC)\n",
    "  - Logistic Regression\n",
    "  - k-Nearest Neighbors\n",
    "  - Decision Tree\n",
    "  - Random Forest\n",
    "\n",
    "**Conclusion**"
   ]
  },
  {
   "cell_type": "code",
   "execution_count": null,
   "id": "c465c123-2aa4-4b49-8f72-d3fc3105b309",
   "metadata": {},
   "outputs": [],
   "source": []
  }
 ],
 "metadata": {
  "kernelspec": {
   "display_name": "Python 3 (ipykernel)",
   "language": "python",
   "name": "python3"
  },
  "language_info": {
   "codemirror_mode": {
    "name": "ipython",
    "version": 3
   },
   "file_extension": ".py",
   "mimetype": "text/x-python",
   "name": "python",
   "nbconvert_exporter": "python",
   "pygments_lexer": "ipython3",
   "version": "3.12.4"
  }
 },
 "nbformat": 4,
 "nbformat_minor": 5
}
